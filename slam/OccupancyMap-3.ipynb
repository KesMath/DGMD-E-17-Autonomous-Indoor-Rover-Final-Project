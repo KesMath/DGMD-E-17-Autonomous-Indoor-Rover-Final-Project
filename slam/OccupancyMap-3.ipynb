{
 "cells": [
  {
   "cell_type": "code",
   "execution_count": 130,
   "metadata": {},
   "outputs": [],
   "source": [
    "import math\n",
    "import matplotlib.pyplot as plt\n",
    "import numpy as np\n",
    "\n",
    "from collections import deque"
   ]
  },
  {
   "cell_type": "code",
   "execution_count": 131,
   "metadata": {},
   "outputs": [],
   "source": [
    "def bresenham(start, end):\n",
    "    \"\"\"\n",
    "    Implementation of Bresenham's line drawing algorithm\n",
    "    See en.wikipedia.org/wiki/Bresenham's_line_algorithm\n",
    "    Bresenham's Line Algorithm\n",
    "    Produces a np.array from start and end (original from roguebasin.com)\n",
    "    >>> points1 = bresenham((4, 4), (6, 10))\n",
    "    >>> print(points1)\n",
    "    np.array([[4,4], [4,5], [5,6], [5,7], [5,8], [6,9], [6,10]])\n",
    "    \"\"\"\n",
    "    # setup initial conditions\n",
    "    x1, y1 = start\n",
    "    x2, y2 = end\n",
    "    dx = x2 - x1\n",
    "    dy = y2 - y1\n",
    "    is_steep = abs(dy) > abs(dx)  # determine how steep the line is\n",
    "    if is_steep:  # rotate line\n",
    "        x1, y1 = y1, x1\n",
    "        x2, y2 = y2, x2\n",
    "    # swap start and end points if necessary and store swap state\n",
    "    swapped = False\n",
    "    if x1 > x2:\n",
    "        x1, x2 = x2, x1\n",
    "        y1, y2 = y2, y1\n",
    "        swapped = True\n",
    "    dx = x2 - x1  # recalculate differentials\n",
    "    dy = y2 - y1  # recalculate differentials\n",
    "    error = int(dx / 2.0)  # calculate error\n",
    "    y_step = 1 if y1 < y2 else -1\n",
    "    # iterate over bounding box generating points between start and end\n",
    "    y = y1\n",
    "    points = []\n",
    "    for x in range(x1, x2 + 1):\n",
    "        coord = [y, x] if is_steep else (x, y)\n",
    "        points.append(coord)\n",
    "        error -= abs(dy)\n",
    "        if error < 0:\n",
    "            y += y_step\n",
    "            error += dx\n",
    "    if swapped:  # reverse the list if the coordinates were swapped\n",
    "        points.reverse()\n",
    "    points = np.array(points)\n",
    "    return points"
   ]
  },
  {
   "cell_type": "code",
   "execution_count": 132,
   "metadata": {},
   "outputs": [],
   "source": [
    "f = \"sampling_10.csv\"\n",
    "\n",
    "with open(f) as data:\n",
    "    measures = [line.split(\",\") for line in data]\n",
    "angles = []\n",
    "distances = []\n",
    "for measure in measures:\n",
    "    angles.append(float(measure[0]))\n",
    "    distances.append(float(measure[2]))\n",
    "angles = np.array(angles)\n",
    "distances = np.array(distances)\n"
   ]
  },
  {
   "cell_type": "code",
   "execution_count": 133,
   "metadata": {},
   "outputs": [],
   "source": [
    "ang = angles\n",
    "dist = distances\n",
    "\n",
    "ox = np.sin(ang*3.14/180) * dist\n",
    "oy = np.cos(ang*3.14/180) * dist"
   ]
  },
  {
   "cell_type": "code",
   "execution_count": 142,
   "metadata": {},
   "outputs": [],
   "source": [
    "\"\"\"\n",
    "Calculates the size, and the maximum distances according to the the\n",
    "measurement center\n",
    "\"\"\"\n",
    "EXTEND_AREA = 2.0\n",
    "xy_resolution = 1\n",
    "\n",
    "min_x = round(min(ox) - EXTEND_AREA / 2.0)\n",
    "min_y = round(min(oy) - EXTEND_AREA / 2.0)\n",
    "max_x = round(max(ox) + EXTEND_AREA / 2.0)\n",
    "max_y = round(max(oy) + EXTEND_AREA / 2.0)\n",
    "xw = int(round((max_x - min_x) / xy_resolution))\n",
    "yw = int(round((max_y - min_y) / xy_resolution))\n",
    "#print(\"The grid map is \", xw, \"x\", yw, \".\")"
   ]
  },
  {
   "cell_type": "code",
   "execution_count": 135,
   "metadata": {},
   "outputs": [],
   "source": [
    "min_x = min_x\n",
    "min_y = min_y\n",
    "max_x = max_x\n",
    "max_y = max_y\n",
    "x_w = xw\n",
    "y_w = yw\n",
    "\n",
    "occupancy_map = np.zeros((x_w, y_w)) / 2\n",
    "center_x = int(round(-min_x / xy_resolution))  # center x coordinate of the grid map\n",
    "center_y = int(round(-min_y / xy_resolution))  # center y coordinate of the grid map"
   ]
  },
  {
   "cell_type": "code",
   "execution_count": 136,
   "metadata": {},
   "outputs": [],
   "source": [
    "center_x, center_y = (center_x, center_y)\n",
    "prev_ix, prev_iy = center_x - 1, center_y\n",
    "ox, oy = (ox, oy)\n",
    "xw, yw = (x_w, y_w)\n",
    "min_x, min_y = (min_x, min_y)\n",
    "\n",
    "occupancy_map = (np.ones((xw, yw))) #* 0.5\n",
    "for (x, y) in zip(ox, oy):\n",
    "    # x coordinate of the the occupied area\n",
    "    ix = int(round((x - min_x) / xy_resolution))\n",
    "    # y coordinate of the the occupied area\n",
    "    iy = int(round((y - min_y) / xy_resolution))\n",
    "    free_area = bresenham((prev_ix, prev_iy), (ix, iy))\n",
    "    for fa in free_area:\n",
    "        occupancy_map[fa[0]][fa[1]] = 0  # free area 0.0\n",
    "    prev_ix = ix\n",
    "    prev_iy = iy\n",
    "# return occupancy_map"
   ]
  },
  {
   "cell_type": "code",
   "execution_count": 137,
   "metadata": {},
   "outputs": [],
   "source": [
    "\"\"\"\n",
    "center_point: starting point (x,y) of fill\n",
    "occupancy_map: occupancy map generated from Bresenham ray-tracing\n",
    "\"\"\"\n",
    "center_point = (center_x, center_y)\n",
    "\n",
    "# Fill empty areas with queue method\n",
    "sx, sy = occupancy_map.shape\n",
    "fringe = deque()\n",
    "fringe.appendleft(center_point)\n",
    "while fringe:\n",
    "    n = fringe.pop()\n",
    "    nx, ny = n\n",
    "    # West\n",
    "    if nx > 0:\n",
    "        if occupancy_map[nx - 1, ny] == 0.5:\n",
    "            occupancy_map[nx - 1, ny] = 0.0\n",
    "            fringe.appendleft((nx - 1, ny))\n",
    "    # East\n",
    "    if nx < sx - 1:\n",
    "        if occupancy_map[nx + 1, ny] == 0.5:\n",
    "            occupancy_map[nx + 1, ny] = 0.0\n",
    "            fringe.appendleft((nx + 1, ny))\n",
    "    # North\n",
    "    if ny > 0:\n",
    "        if occupancy_map[nx, ny - 1] == 0.5:\n",
    "            occupancy_map[nx, ny - 1] = 0.0\n",
    "            fringe.appendleft((nx, ny - 1))\n",
    "    # South\n",
    "    if ny < sy - 1:\n",
    "        if occupancy_map[nx, ny + 1] == 0.5:\n",
    "            occupancy_map[nx, ny + 1] = 0.0\n",
    "            fringe.appendleft((nx, ny + 1))"
   ]
  },
  {
   "cell_type": "code",
   "execution_count": 138,
   "metadata": {},
   "outputs": [],
   "source": [
    "for (x, y) in zip(ox, oy):\n",
    "    # x coordinate of the the occupied area\n",
    "    ix = int(round((x - min_x) / xy_resolution)) -1\n",
    "    # y coordinate of the the occupied area\n",
    "    iy = int(round((y - min_y) / xy_resolution)) -1\n",
    "    laser_beams = bresenham((center_x, center_y), (ix, iy))  # line form the lidar to the occupied point\n",
    "    for laser_beam in laser_beams:\n",
    "        occupancy_map[laser_beam[0]][\n",
    "            laser_beam[1]] = 0.0  # free area 0.0\n",
    "    occupancy_map[ix][iy] = 1.0  # occupied area 1.0\n",
    "    occupancy_map[ix + 1][iy] = 1.0  # extend the occupied area\n",
    "    occupancy_map[ix][iy + 1] = 1.0  # extend the occupied area\n",
    "    occupancy_map[ix + 1][iy + 1] = 1.0  # extend the occupied area"
   ]
  },
  {
   "cell_type": "code",
   "execution_count": 139,
   "metadata": {},
   "outputs": [
    {
     "data": {
      "image/png": "[encoded data removed]",
      "text/plain": [
       "<Figure size 1000x1000 with 2 Axes>"
      ]
     },
     "metadata": {},
     "output_type": "display_data"
    }
   ],
   "source": [
    "xy_res = np.array(occupancy_map).shape\n",
    "plt.figure(1, figsize=(10, 10))\n",
    "plt.subplot(122)\n",
    "plt.imshow(occupancy_map, cmap=\"RdYlGn_r\")\n",
    "# cmap = \"binary\" \"PiYG_r\" \"PiYG_r\" \"bone\" \"bone_r\" \"RdYlGn_r\"\n",
    "plt.clim(-0.4, 1.4)\n",
    "plt.gca().set_xticks(np.arange(-.5, xy_res[1], 1), minor=True)\n",
    "plt.gca().set_yticks(np.arange(-.5, xy_res[0], 1), minor=True)\n",
    "plt.grid(True, which=\"minor\", color=\"w\", linewidth=0.6, alpha=0.5)\n",
    "# plt.colorbar()\n",
    "plt.subplot(121)\n",
    "plt.plot([oy], [ox], \"ro-\") \n",
    "# plt.plot([oy, np.zeros(np.size(oy))], [ox, np.zeros(np.size(oy))], \"ro-\")\n",
    "plt.axis(\"equal\")\n",
    "plt.plot(0.0, 0.0, \"ob\")\n",
    "plt.gca().set_aspect(\"equal\", \"box\")\n",
    "bottom, top = plt.ylim()  # return the current y-lim\n",
    "plt.ylim((top, bottom))  # rescale y axis, to match the grid orientation\n",
    "plt.grid(True)\n",
    "plt.show()"
   ]
  }
 ],
 "metadata": {
  "kernelspec": {
   "display_name": "Python 3",
   "language": "python",
   "name": "python3"
  },
  "language_info": {
   "codemirror_mode": {
    "name": "ipython",
    "version": 3
   },
   "file_extension": ".py",
   "mimetype": "text/x-python",
   "name": "python",
   "nbconvert_exporter": "python",
   "pygments_lexer": "ipython3",
   "version": "3.11.2"
  },
  "orig_nbformat": 4
 },
 "nbformat": 4,
 "nbformat_minor": 2
}
